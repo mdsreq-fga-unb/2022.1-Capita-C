{
 "cells": [
  {
   "cell_type": "code",
   "execution_count": 1,
   "metadata": {},
   "outputs": [],
   "source": [
    "import pandas as pd\n",
    "import numpy as np\n",
    "import requests"
   ]
  },
  {
   "cell_type": "code",
   "execution_count": 2,
   "metadata": {},
   "outputs": [],
   "source": [
    "df = pd.read_csv('dados_juntos.csv')"
   ]
  },
  {
   "cell_type": "code",
   "execution_count": 3,
   "metadata": {},
   "outputs": [],
   "source": [
    "def matriz_filial(matriz_filial):\n",
    "    if(matriz_filial == \"MATRIZ\"):\n",
    "        return \"Matriz\"\n",
    "    else:\n",
    "        return \"Filial\""
   ]
  },
  {
   "cell_type": "code",
   "execution_count": 4,
   "metadata": {},
   "outputs": [],
   "source": [
    "df[\"identificador_matriz_filial\"] = df.apply(lambda row: matriz_filial(row[\"identificador_matriz_filial\"]), axis=1)"
   ]
  },
  {
   "cell_type": "code",
   "execution_count": 5,
   "metadata": {},
   "outputs": [
    {
     "data": {
      "text/html": [
       "<div>\n",
       "<style scoped>\n",
       "    .dataframe tbody tr th:only-of-type {\n",
       "        vertical-align: middle;\n",
       "    }\n",
       "\n",
       "    .dataframe tbody tr th {\n",
       "        vertical-align: top;\n",
       "    }\n",
       "\n",
       "    .dataframe thead th {\n",
       "        text-align: right;\n",
       "    }\n",
       "</style>\n",
       "<table border=\"1\" class=\"dataframe\">\n",
       "  <thead>\n",
       "    <tr style=\"text-align: right;\">\n",
       "      <th></th>\n",
       "      <th>cnpj_final</th>\n",
       "      <th>identificador_matriz_filial</th>\n",
       "      <th>nome_fantasia</th>\n",
       "      <th>cnae_fiscal_principal</th>\n",
       "      <th>cnae_fiscal_secundaria</th>\n",
       "      <th>tipo_de_logradouro</th>\n",
       "      <th>logradouro</th>\n",
       "      <th>numero</th>\n",
       "      <th>complemento</th>\n",
       "      <th>bairro</th>\n",
       "      <th>cep</th>\n",
       "      <th>uf</th>\n",
       "      <th>municipio</th>\n",
       "      <th>ddd_1</th>\n",
       "      <th>telefone_1</th>\n",
       "      <th>ddd_2</th>\n",
       "      <th>telefone_2</th>\n",
       "      <th>correio_eletronico</th>\n",
       "    </tr>\n",
       "  </thead>\n",
       "  <tbody>\n",
       "    <tr>\n",
       "      <th>0</th>\n",
       "      <td>05.565.144/1-9</td>\n",
       "      <td>Matriz</td>\n",
       "      <td>IMPACTO LOCACAO &amp; TERRAPLANAGEM</td>\n",
       "      <td>7732201</td>\n",
       "      <td>['7732202', '4744099']</td>\n",
       "      <td>OUTROS</td>\n",
       "      <td>QSF 16 LOTE 301 LOJA</td>\n",
       "      <td>01</td>\n",
       "      <td>XXXXXXXXXXXXXXXXXXXXXXXXXXXXXX</td>\n",
       "      <td>TAGUATINGA</td>\n",
       "      <td>720256600</td>\n",
       "      <td>DF</td>\n",
       "      <td>9701</td>\n",
       "      <td>61</td>\n",
       "      <td>33564654</td>\n",
       "      <td>61</td>\n",
       "      <td>33524244</td>\n",
       "      <td>NaN</td>\n",
       "    </tr>\n",
       "    <tr>\n",
       "      <th>1</th>\n",
       "      <td>02.232.149/1-21</td>\n",
       "      <td>Matriz</td>\n",
       "      <td>NaN</td>\n",
       "      <td>4742300</td>\n",
       "      <td>['3313999']</td>\n",
       "      <td>QUADRA</td>\n",
       "      <td>SES QUADRA 07 LOTE 01 LOJA 01</td>\n",
       "      <td>01</td>\n",
       "      <td>NaN</td>\n",
       "      <td>SETOR ECONOMICO DE SOBRADINHO (SOBRADINH</td>\n",
       "      <td>730204070</td>\n",
       "      <td>DF</td>\n",
       "      <td>9701</td>\n",
       "      <td>61</td>\n",
       "      <td>33878126</td>\n",
       "      <td>0</td>\n",
       "      <td>0</td>\n",
       "      <td>ELOBOMBAS@HOTMAIL.COM</td>\n",
       "    </tr>\n",
       "    <tr>\n",
       "      <th>2</th>\n",
       "      <td>00.623.926/1-33</td>\n",
       "      <td>Matriz</td>\n",
       "      <td>MUNDO DAS MOTOS</td>\n",
       "      <td>4541206</td>\n",
       "      <td>['4530705', '4543900', '4744001', '4744099', '...</td>\n",
       "      <td>QUADRA</td>\n",
       "      <td>QUADRA 1 CONJUNTO 2 LOTE</td>\n",
       "      <td>03</td>\n",
       "      <td>NaN</td>\n",
       "      <td>MORRO AZUL (SAO SEBASTIAO)</td>\n",
       "      <td>716912420</td>\n",
       "      <td>DF</td>\n",
       "      <td>9701</td>\n",
       "      <td>61</td>\n",
       "      <td>30332020</td>\n",
       "      <td>0</td>\n",
       "      <td>0</td>\n",
       "      <td>NaN</td>\n",
       "    </tr>\n",
       "  </tbody>\n",
       "</table>\n",
       "</div>"
      ],
      "text/plain": [
       "        cnpj_final identificador_matriz_filial  \\\n",
       "0   05.565.144/1-9                      Matriz   \n",
       "1  02.232.149/1-21                      Matriz   \n",
       "2  00.623.926/1-33                      Matriz   \n",
       "\n",
       "                     nome_fantasia  cnae_fiscal_principal  \\\n",
       "0  IMPACTO LOCACAO & TERRAPLANAGEM                7732201   \n",
       "1                              NaN                4742300   \n",
       "2                  MUNDO DAS MOTOS                4541206   \n",
       "\n",
       "                              cnae_fiscal_secundaria tipo_de_logradouro  \\\n",
       "0                             ['7732202', '4744099']             OUTROS   \n",
       "1                                        ['3313999']             QUADRA   \n",
       "2  ['4530705', '4543900', '4744001', '4744099', '...             QUADRA   \n",
       "\n",
       "                      logradouro numero                     complemento  \\\n",
       "0           QSF 16 LOTE 301 LOJA     01  XXXXXXXXXXXXXXXXXXXXXXXXXXXXXX   \n",
       "1  SES QUADRA 07 LOTE 01 LOJA 01     01                             NaN   \n",
       "2       QUADRA 1 CONJUNTO 2 LOTE     03                             NaN   \n",
       "\n",
       "                                     bairro        cep  uf  municipio  ddd_1  \\\n",
       "0                                TAGUATINGA  720256600  DF       9701     61   \n",
       "1  SETOR ECONOMICO DE SOBRADINHO (SOBRADINH  730204070  DF       9701     61   \n",
       "2                MORRO AZUL (SAO SEBASTIAO)  716912420  DF       9701     61   \n",
       "\n",
       "   telefone_1  ddd_2  telefone_2     correio_eletronico  \n",
       "0    33564654     61    33524244                    NaN  \n",
       "1    33878126      0           0  ELOBOMBAS@HOTMAIL.COM  \n",
       "2    30332020      0           0                    NaN  "
      ]
     },
     "execution_count": 5,
     "metadata": {},
     "output_type": "execute_result"
    }
   ],
   "source": [
    "df.head(3)"
   ]
  },
  {
   "cell_type": "code",
   "execution_count": null,
   "metadata": {},
   "outputs": [],
   "source": [
    "df = df.apply(matriz_filial, axis=1)"
   ]
  },
  {
   "cell_type": "code",
   "execution_count": 5,
   "metadata": {},
   "outputs": [
    {
     "data": {
      "text/plain": [
       "Index(['cnpj_final', 'identificador_matriz_filial', 'nome_fantasia',\n",
       "       'cnae_fiscal_principal', 'cnae_fiscal_secundaria', 'tipo_de_logradouro',\n",
       "       'logradouro', 'numero', 'complemento', 'bairro', 'cep', 'uf',\n",
       "       'municipio', 'ddd_1', 'telefone_1', 'ddd_2', 'telefone_2',\n",
       "       'correio_eletronico'],\n",
       "      dtype='object')"
      ]
     },
     "execution_count": 5,
     "metadata": {},
     "output_type": "execute_result"
    }
   ],
   "source": [
    "df.columns"
   ]
  },
  {
   "cell_type": "code",
   "execution_count": 4,
   "metadata": {},
   "outputs": [
    {
     "data": {
      "text/plain": [
       "'05.565.144/1-9'"
      ]
     },
     "execution_count": 4,
     "metadata": {},
     "output_type": "execute_result"
    }
   ],
   "source": [
    "df.iloc[0].cnpj_final"
   ]
  },
  {
   "cell_type": "code",
   "execution_count": 6,
   "metadata": {},
   "outputs": [
    {
     "data": {
      "text/plain": [
       "array(['MATRIZ', 'FILIAL'], dtype=object)"
      ]
     },
     "execution_count": 6,
     "metadata": {},
     "output_type": "execute_result"
    }
   ],
   "source": [
    "df.identificador_matriz_filial.unique()"
   ]
  },
  {
   "cell_type": "code",
   "execution_count": 35,
   "metadata": {},
   "outputs": [
    {
     "name": "stdout",
     "output_type": "stream",
     "text": [
      "05.565.144/1-9\n",
      "02.232.149/1-21\n",
      "00.623.926/1-33\n",
      "03.975.253/1-79\n",
      "02.291.355/1-2\n"
     ]
    }
   ],
   "source": [
    "for index, row in df.head(5).iterrows():\n",
    "    print(row.cnpj_final)"
   ]
  },
  {
   "cell_type": "code",
   "execution_count": null,
   "metadata": {},
   "outputs": [],
   "source": [
    "{\n",
    "    \"cnpjFinal\": \"84907575-4246-4ae8-95fe-bb6a1364014c\",\n",
    "    \"identificadorMatrizFiliar\": \"Matriz\",\n",
    "    \"nomeFantasia\": \"Nome Fantasioso\",\n",
    "    \"tipoLogradouro\": \"casa\",\n",
    "    \"logradouro\": \"endereco\",\n",
    "    \"numero\": \"22\",\n",
    "    \"complemento\": \"complemento\",\n",
    "    \"bairro\": \"bairo\",\n",
    "    \"cep\": 7777777,\n",
    "    \"unidadeFederativa\": \"DF\",\n",
    "    \"municipio\": \"Brasilia\",\n",
    "    \"atribuido\": False,\n",
    "    \"parceriaAceita\": \"Aceita\",\n",
    "    \"responsavelCpf\": None,\n",
    "    \"cnaes\": [\n",
    "        {\n",
    "            \"cnae\": 24246\n",
    "        },\n",
    "        {\n",
    "            \"cnae\": 12\n",
    "        }\n",
    "    ]\n",
    "    },"
   ]
  },
  {
   "cell_type": "code",
   "execution_count": null,
   "metadata": {},
   "outputs": [],
   "source": [
    "final_data = [{ \n",
    "    \"cnpjFinal\": df.iloc[0].cnpj_final,\n",
    "    \"identificadorMatrizFiliar\": \"Matriz\",\n",
    "    \"nomeFantasia\": \"Casa do krlh\",\n",
    "    \"cnaes\": [123,333],\n",
    "    \"tipoLogradouro\": \"casa\",\n",
    "    \"logradouro\": \"krlh\",\n",
    "    \"numero\": \"69\",\n",
    "    \"complemento\": \"bem longe\",\n",
    "    \"bairro\": \"prostibulo\",\n",
    "    \"cep\": 7777777,\n",
    "    \"unidadeFederativa\": \"DF\",\n",
    "    \"municipio\": \"Brasilia\",\n",
    "    \"atribuido\": False,\n",
    "    \"parceriaAceita\": \"Aceita\",\n",
    "    \"telefones\": [123123,111],\n",
    "    \"emails\": [\"suamae@gmail.com\",\"litlebrasileiras@gmail.com\"],\n",
    "    \"responsavel\":\"33333333333\"\n",
    "},\n",
    "{\n",
    "    \"cnpjFinal\": \"78945612300\",\n",
    "    \"identificadorMatrizFiliar\": \"Matriz\",\n",
    "    \"nomeFantasia\": \"Nome Teste\",\n",
    "    \"tipoLogradouro\": \"casa\",\n",
    "    \"logradouro\": \"endereco\",\n",
    "    \"numero\": \"22\",\n",
    "    \"complemento\": \"complemento\",\n",
    "    \"bairro\": \"bairo\",\n",
    "    \"cep\": 7777777,\n",
    "    \"unidadeFederativa\": \"DF\",\n",
    "    \"municipio\": \"Brasilia\",\n",
    "    \"atribuido\": False,\n",
    "    \"parceriaAceita\": \"Aceita\",\n",
    "    \"responsavelCpf\": None,\n",
    "    \"cnaes\": [\n",
    "        {\n",
    "            \"cnae\": 24246\n",
    "        },\n",
    "        {\n",
    "            \"cnae\": 12\n",
    "        }\n",
    "    ]\n",
    "    },\n",
    "    {\n",
    "    \"cnpjFinal\": \"55555555555\",\n",
    "    \"identificadorMatrizFiliar\": \"Matriz\",\n",
    "    \"nomeFantasia\": \"Nome Teste\",\n",
    "    \"tipoLogradouro\": \"casa\",\n",
    "    \"logradouro\": \"endereco\",\n",
    "    \"numero\": \"22\",\n",
    "    \"complemento\": \"complemento\",\n",
    "    \"bairro\": \"bairo\",\n",
    "    \"cep\": 7777777,\n",
    "    \"unidadeFederativa\": \"DF\",\n",
    "    \"municipio\": \"Brasilia\",\n",
    "    \"atribuido\": False,\n",
    "    \"parceriaAceita\": \"Aceita\",\n",
    "    \"responsavelCpf\": None,\n",
    "    \"cnaes\": [\n",
    "        {\n",
    "            \"cnae\": 1111\n",
    "        },\n",
    "        {\n",
    "            \"cnae\": 794656\n",
    "        }\n",
    "    ]\n",
    "    }          ]"
   ]
  },
  {
   "cell_type": "code",
   "execution_count": null,
   "metadata": {},
   "outputs": [],
   "source": [
    "res = requests.post('http://localhost:3000/api/cnpj/add', data=final_data)"
   ]
  }
 ],
 "metadata": {
  "kernelspec": {
   "display_name": "Python 3.10.4 ('PySpark')",
   "language": "python",
   "name": "python3"
  },
  "language_info": {
   "codemirror_mode": {
    "name": "ipython",
    "version": 3
   },
   "file_extension": ".py",
   "mimetype": "text/x-python",
   "name": "python",
   "nbconvert_exporter": "python",
   "pygments_lexer": "ipython3",
   "version": "3.10.4"
  },
  "orig_nbformat": 4,
  "vscode": {
   "interpreter": {
    "hash": "e4baceb65d5367d22867bb473855cbc1965095036926860b20f10dbdd2d4e361"
   }
  }
 },
 "nbformat": 4,
 "nbformat_minor": 2
}
